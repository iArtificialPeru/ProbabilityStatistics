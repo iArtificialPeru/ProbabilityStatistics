{
  "cells": [
    {
      "cell_type": "markdown",
      "metadata": {
        "id": "view-in-github",
        "colab_type": "text"
      },
      "source": [
        "<a href=\"https://colab.research.google.com/github/iArtificialPeru/ProbabilityStatistics/blob/main/setup.ipynb\" target=\"_parent\"><img src=\"https://colab.research.google.com/assets/colab-badge.svg\" alt=\"Open In Colab\"/></a>"
      ]
    },
    {
      "cell_type": "markdown",
      "metadata": {
        "id": "uJI2P5iqWXbh"
      },
      "source": [
        "# Colab Setup with Google Drive"
      ]
    },
    {
      "cell_type": "code",
      "execution_count": 1,
      "metadata": {
        "colab": {
          "base_uri": "https://localhost:8080/"
        },
        "id": "G9lIVhDF8j6H",
        "outputId": "d94006ee-b27f-4eed-dea7-f64f7adf0a23"
      },
      "outputs": [
        {
          "output_type": "stream",
          "name": "stdout",
          "text": [
            "Mounted at /content/drive/\n",
            "Notebooks\n",
            "README.md\n",
            "setup.ipynb\n",
            ".git\n"
          ]
        }
      ],
      "source": [
        "from google.colab import drive\n",
        "import os\n",
        "\n",
        "drive.mount('/content/drive/')\n",
        "os.chdir('/content/drive/MyDrive/GitHub/ProbabilityStatistics')\n",
        "for item in os.listdir():\n",
        "  print(item)"
      ]
    },
    {
      "cell_type": "code",
      "execution_count": 3,
      "metadata": {
        "colab": {
          "base_uri": "https://localhost:8080/"
        },
        "id": "WPnzcIMAIplq",
        "outputId": "ac99bffd-75db-4807-e9b1-afa8b1d83e66"
      },
      "outputs": [
        {
          "output_type": "stream",
          "name": "stdout",
          "text": [
            "people.csv\n",
            "spotify_top_100_2019.csv\n",
            "spotify_top50_2020.csv\n",
            "employees.csv\n",
            "02 Probability - Exercise .ipynb\n",
            "05 Joint and Conditional Probability - Exercise .ipynb\n",
            "11 Inference - Exercise .ipynb\n",
            "08 Z-scores - Exercise .ipynb\n",
            "09 Z-scores (finding probabilities for X) - Exercise .ipynb\n",
            "09 Z-scores (finding probabilities for X) - Exercise Solution.ipynb\n",
            "03 Probability Functions - Exercise Solution.ipynb\n",
            "01 Python_NumPy.ipynb\n",
            "02 Probability - Exercise Solutions.ipynb\n",
            "03 Probability Functions - Exercise .ipynb\n",
            "04 Expected Value - Exercise .ipynb\n",
            "04 Expected Value - Exercise Solution.ipynb\n",
            "05 Joint and Conditional Probability - Exercise Solution.ipynb\n",
            "06 Distributions.ipynb\n",
            "07 Imputation (using distributions).ipynb\n",
            "08 Z-scores - Exercise Solution.ipynb\n",
            "10 Inference  .ipynb\n",
            "11 Inference - Exercise Solution.ipynb\n",
            "images\n"
          ]
        }
      ],
      "source": [
        "os.chdir('/content/drive/MyDrive/GitHub/ProbabilityStatistics/Notebooks')\n",
        "for item in os.listdir():\n",
        "  print(item)"
      ]
    },
    {
      "cell_type": "code",
      "execution_count": 4,
      "metadata": {
        "colab": {
          "base_uri": "https://localhost:8080/"
        },
        "id": "g_lTff8m7-4X",
        "outputId": "07e0e4d8-2e82-4432-c6ba-7a77792bc3f6"
      },
      "outputs": [
        {
          "output_type": "stream",
          "name": "stdout",
          "text": [
            "['people.csv', 'spotify_top_100_2019.csv', 'spotify_top50_2020.csv', 'employees.csv', '02 Probability - Exercise .ipynb', '05 Joint and Conditional Probability - Exercise .ipynb', '11 Inference - Exercise .ipynb', '08 Z-scores - Exercise .ipynb', '09 Z-scores (finding probabilities for X) - Exercise .ipynb', '09 Z-scores (finding probabilities for X) - Exercise Solution.ipynb', '03 Probability Functions - Exercise Solution.ipynb', '01 Python_NumPy.ipynb', '02 Probability - Exercise Solutions.ipynb', '03 Probability Functions - Exercise .ipynb', '04 Expected Value - Exercise .ipynb', '04 Expected Value - Exercise Solution.ipynb', '05 Joint and Conditional Probability - Exercise Solution.ipynb', '06 Distributions.ipynb', '07 Imputation (using distributions).ipynb', '08 Z-scores - Exercise Solution.ipynb', '10 Inference  .ipynb', '11 Inference - Exercise Solution.ipynb', 'images']\n",
            "--------------\n"
          ]
        }
      ],
      "source": [
        "notebooks = \"/content/drive/MyDrive/GitHub/ProbabilityStatistics/Notebooks\"\n",
        "print(os.listdir(notebooks))\n",
        "print(\"--------------\")\n",
        "\n",
        "file = \"people.csv\"\n",
        "file_path = os.path.join(notebooks, file)\n",
        "with open(file_path, \"r\") as f:\n",
        "  contents = f.read()"
      ]
    },
    {
      "cell_type": "code",
      "execution_count": 5,
      "metadata": {
        "colab": {
          "base_uri": "https://localhost:8080/"
        },
        "id": "gsXvz1pMWXbh",
        "outputId": "726dd247-9044-4437-a594-f94b4ed639f3"
      },
      "outputs": [
        {
          "output_type": "stream",
          "name": "stdout",
          "text": [
            "   PassengerId  Survived  Pclass  \\\n",
            "0            1         0       3   \n",
            "1            2         1       1   \n",
            "2            3         1       3   \n",
            "3            4         1       1   \n",
            "4            5         0       3   \n",
            "\n",
            "                                                Name     Sex   Age  SibSp  \\\n",
            "0                            Braund, Mr. Owen Harris    male  22.0      1   \n",
            "1  Cumings, Mrs. John Bradley (Florence Briggs Th...  female  38.0      1   \n",
            "2                             Heikkinen, Miss. Laina  female  26.0      0   \n",
            "3       Futrelle, Mrs. Jacques Heath (Lily May Peel)  female  35.0      1   \n",
            "4                           Allen, Mr. William Henry    male  35.0      0   \n",
            "\n",
            "   Parch            Ticket     Fare Cabin Embarked  \n",
            "0      0         A/5 21171   7.2500   NaN        S  \n",
            "1      0          PC 17599  71.2833   C85        C  \n",
            "2      0  STON/O2. 3101282   7.9250   NaN        S  \n",
            "3      0            113803  53.1000  C123        S  \n",
            "4      0            373450   8.0500   NaN        S  \n"
          ]
        }
      ],
      "source": [
        "import pandas as pd\n",
        "df = pd.read_csv(file_path)\n",
        "print(df.head())"
      ]
    },
    {
      "cell_type": "code",
      "execution_count": null,
      "metadata": {
        "id": "KOeSVQVvY-F-"
      },
      "outputs": [],
      "source": []
    }
  ],
  "metadata": {
    "colab": {
      "provenance": [],
      "include_colab_link": true
    },
    "kernelspec": {
      "display_name": "Python 3 (ipykernel)",
      "language": "python",
      "name": "python3"
    },
    "language_info": {
      "codemirror_mode": {
        "name": "ipython",
        "version": 3
      },
      "file_extension": ".py",
      "mimetype": "text/x-python",
      "name": "python",
      "nbconvert_exporter": "python",
      "pygments_lexer": "ipython3",
      "version": "3.12.7"
    }
  },
  "nbformat": 4,
  "nbformat_minor": 0
}