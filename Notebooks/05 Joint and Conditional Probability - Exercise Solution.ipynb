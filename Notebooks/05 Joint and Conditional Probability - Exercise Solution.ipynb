{
 "cells": [
  {
   "cell_type": "markdown",
   "id": "a34920a8",
   "metadata": {},
   "source": [
    "# Joint and Conditional Probability - Exercise Solution"
   ]
  },
  {
   "cell_type": "markdown",
   "id": "c43b6344",
   "metadata": {},
   "source": [
    "## 1.) What is the joint probability of drawing a face card that is a black card?\n",
    "P(card type = face, card color = black)"
   ]
  },
  {
   "cell_type": "markdown",
   "id": "5988ac9d",
   "metadata": {},
   "source": [
    "P(card type = face, card color = black) = 12/52 x 1/2 = 6/52 = .115\n",
    "\n",
    "#### Out of the 52 cards, there are 6 black face cards."
   ]
  },
  {
   "cell_type": "markdown",
   "id": "409519b6",
   "metadata": {},
   "source": [
    "---"
   ]
  },
  {
   "cell_type": "markdown",
   "id": "b7d014c1",
   "metadata": {},
   "source": [
    "## 2.) What is the conditional probability of drawing a face card (without replacement) given that a face card was just drawn?\n",
    "P(card 2 = face | card 1 = face)"
   ]
  },
  {
   "cell_type": "markdown",
   "id": "db175a9d",
   "metadata": {},
   "source": [
    "$ P(y | x) =  \\frac{P(y, x)}{P(x)}$"
   ]
  },
  {
   "cell_type": "markdown",
   "id": "2441f093",
   "metadata": {},
   "source": [
    "**Joint Probability of 2 face cards**\n",
    "\n",
    "P(card 2 = face, card 1 = face) = (12/52) x (11/51) = 132/2652 = **11/221** = **.0497**\n",
    "\n",
    "\n",
    "**Probability of a single face card** = **12/52**\n",
    "\n",
    "**Conditional Probability**\n",
    "P(card 2 = face | card 1 = face) = **(11/221)/(12/52) = .216** "
   ]
  },
  {
   "cell_type": "markdown",
   "id": "5c0a2e81",
   "metadata": {},
   "source": [
    "---"
   ]
  }
 ],
 "metadata": {
  "kernelspec": {
   "display_name": "Python 3 (ipykernel)",
   "language": "python",
   "name": "python3"
  },
  "language_info": {
   "codemirror_mode": {
    "name": "ipython",
    "version": 3
   },
   "file_extension": ".py",
   "mimetype": "text/x-python",
   "name": "python",
   "nbconvert_exporter": "python",
   "pygments_lexer": "ipython3",
   "version": "3.11.5"
  }
 },
 "nbformat": 4,
 "nbformat_minor": 5
}
