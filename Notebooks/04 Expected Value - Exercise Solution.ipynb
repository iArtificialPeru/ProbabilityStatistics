{
 "cells": [
  {
   "cell_type": "markdown",
   "id": "b565b7f9",
   "metadata": {},
   "source": [
    "# Expected Value - Exercise Solution"
   ]
  },
  {
   "cell_type": "code",
   "execution_count": null,
   "id": "c4518638",
   "metadata": {},
   "outputs": [],
   "source": [
    "from math import factorial\n",
    "\n",
    "def coinflip_prob(n, k):\n",
    "    n_choose_k = factorial(n)/(factorial(k)*factorial(n-k))\n",
    "    return n_choose_k/2**n"
   ]
  },
  {
   "cell_type": "markdown",
   "id": "eb59036f",
   "metadata": {},
   "source": [
    "## Coin flip probabilities for 0, 1, 2, 3, 4, and 5 heads"
   ]
  },
  {
   "cell_type": "code",
   "execution_count": null,
   "id": "f6f565e9",
   "metadata": {},
   "outputs": [],
   "source": [
    "# List comprehension\n",
    "\n",
    "P = [coinflip_prob(5, x) for x in range(6)]\n",
    "P"
   ]
  },
  {
   "cell_type": "markdown",
   "id": "43d64291",
   "metadata": {},
   "source": [
    "## Expected Value"
   ]
  },
  {
   "cell_type": "markdown",
   "id": "bc133841",
   "metadata": {},
   "source": [
    "$$ \\mathbb{E} = \\sum_x xP(x) $$"
   ]
  },
  {
   "cell_type": "code",
   "execution_count": null,
   "id": "261c0a75",
   "metadata": {},
   "outputs": [],
   "source": [
    "# List comprehension\n",
    "\n",
    "E = sum([P[x]*x for x in range(6)])\n",
    "E"
   ]
  },
  {
   "cell_type": "markdown",
   "id": "b29800f4",
   "metadata": {},
   "source": [
    "---"
   ]
  },
  {
   "cell_type": "markdown",
   "id": "04fac41f",
   "metadata": {},
   "source": [
    "### 1.) Assuming heads = 1 and tails = 0, what’s the expected value (frequency) of flipping heads for the toss of a fair coin? \n",
    "#### To get the expected value, you must calculate the probability of the toss landing on heads and the probability of it landing on tails ((i.e., not heads)."
   ]
  },
  {
   "cell_type": "markdown",
   "id": "a0be8c95",
   "metadata": {},
   "source": [
    "## (½)0 + (½)1 = 0 + ½ = ½ "
   ]
  },
  {
   "cell_type": "markdown",
   "id": "8947f3ad",
   "metadata": {},
   "source": [
    "---"
   ]
  },
  {
   "cell_type": "markdown",
   "id": "c94333a6",
   "metadata": {},
   "source": [
    "### 2.) Assuming heads = 1 and tails = 0, what’s the expected value (frequency) of flipping heads for the toss of a fair coin twice?\n",
    "(**Three possible outcomes: 0 heads, 1 head, 2 heads**)"
   ]
  },
  {
   "cell_type": "markdown",
   "id": "a744f1b3",
   "metadata": {},
   "source": [
    "## (¼)0 + (½)1 + (¼)2 = 0 + ½ + ½ = 1 "
   ]
  },
  {
   "cell_type": "code",
   "execution_count": null,
   "id": "9ceaa5f2",
   "metadata": {},
   "outputs": [],
   "source": [
    "# Sample space: HH, HT, TH, TT\n",
    "\n",
    "# 0: probability of no heads (Event space: TT  --> 1 out of 4)\n",
    "# 1: probability that 1 out of 2 is a head (Event space: HT, TH  --> 2 out of 4)\n",
    "# 2: probability that both tosses are heads (Event space: HH  --> 1 out of 4)\n",
    "    \n",
    "P = [coinflip_prob(2, x) for x in range(3)]\n",
    "P"
   ]
  },
  {
   "cell_type": "code",
   "execution_count": null,
   "id": "45e68f66",
   "metadata": {},
   "outputs": [],
   "source": [
    "E = sum([P[x]*x for x in range(3)])\n",
    "E"
   ]
  },
  {
   "cell_type": "markdown",
   "id": "7d32ba1d",
   "metadata": {},
   "source": [
    "---"
   ]
  },
  {
   "cell_type": "markdown",
   "id": "f0655cc7",
   "metadata": {},
   "source": [
    "### 3.) You are one of a thousand people to purchase a lottery ticket. The ticket costs \\\\$10 and pays out \\\\$5000. What value should you expect from this transaction? "
   ]
  },
  {
   "cell_type": "markdown",
   "id": "6f2392d0",
   "metadata": {},
   "source": [
    "1 out of 1000 will win \\\\$4990  --> (1/1000) x \\\\$4990\n",
    "\n",
    "\n",
    "999 out of 1000 will lose \\\\$10 --> (999/1000) x -\\\\$10\n"
   ]
  },
  {
   "cell_type": "markdown",
   "id": "5afe04c1",
   "metadata": {},
   "source": [
    "(1/1000)(\\\\$5000-\\\\$10) + (999/1000)(-\\\\$10) \\\n",
    "= (1/1000)(\\\\$4990) + (999/1000)(-\\\\$10) \\\n",
    "= \\\\$4.99 + (\\\\$-9.99) \\\n",
    "= -\\\\$5"
   ]
  },
  {
   "cell_type": "markdown",
   "id": "232f8fe4",
   "metadata": {},
   "source": [
    "### On average, we can expect each person to lose \\\\$5."
   ]
  },
  {
   "cell_type": "markdown",
   "id": "ab26489f",
   "metadata": {},
   "source": [
    "---"
   ]
  }
 ],
 "metadata": {
  "kernelspec": {
   "display_name": "Python 3 (ipykernel)",
   "language": "python",
   "name": "python3"
  },
  "language_info": {
   "codemirror_mode": {
    "name": "ipython",
    "version": 3
   },
   "file_extension": ".py",
   "mimetype": "text/x-python",
   "name": "python",
   "nbconvert_exporter": "python",
   "pygments_lexer": "ipython3",
   "version": "3.11.5"
  }
 },
 "nbformat": 4,
 "nbformat_minor": 5
}
