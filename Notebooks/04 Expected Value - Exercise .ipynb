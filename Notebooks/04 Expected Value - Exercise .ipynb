{
 "cells": [
  {
   "cell_type": "markdown",
   "id": "6502ac74",
   "metadata": {},
   "source": [
    "# Expected Value - Exercise"
   ]
  },
  {
   "cell_type": "code",
   "execution_count": null,
   "id": "0ef6e995",
   "metadata": {},
   "outputs": [],
   "source": [
    "from math import factorial\n",
    "\n",
    "def coinflip_prob(n, k):\n",
    "    n_choose_k = factorial(n)/(factorial(k)*factorial(n-k))\n",
    "    return n_choose_k/2**n"
   ]
  },
  {
   "cell_type": "markdown",
   "id": "54fe2629",
   "metadata": {},
   "source": [
    "## Coin flip probabilities for 0, 1, 2, 3, 4, and 5 heads"
   ]
  },
  {
   "cell_type": "code",
   "execution_count": null,
   "id": "057014fb",
   "metadata": {},
   "outputs": [],
   "source": [
    "# List comprehension using n choose k\n",
    "# Calculates the probability of flipping a coin 5 times and getting 0, 1, 2, 3, 4, and 5 heads\n",
    "\n",
    "P = [coinflip_prob(5, x) for x in range(6)]\n",
    "P"
   ]
  },
  {
   "cell_type": "markdown",
   "id": "9382edb2",
   "metadata": {},
   "source": [
    "## Expected Value"
   ]
  },
  {
   "cell_type": "markdown",
   "id": "39b5c966",
   "metadata": {},
   "source": [
    "$$ \\mathbb{E} = \\sum_x xP(x) $$"
   ]
  },
  {
   "cell_type": "code",
   "execution_count": null,
   "id": "19ee59e2",
   "metadata": {},
   "outputs": [],
   "source": [
    "# List comprehension\n",
    "# Calculates the expected value using the above probabilities\n",
    "\n",
    "E = sum([P[x]*x for x in range(6)])\n",
    "E"
   ]
  },
  {
   "cell_type": "markdown",
   "id": "7d93d722",
   "metadata": {},
   "source": [
    "---"
   ]
  },
  {
   "cell_type": "markdown",
   "id": "cb3207d7",
   "metadata": {},
   "source": [
    "### 1.) Assuming heads = 1 and tails = 0, what’s the expected value (frequency) of flipping heads for the toss of a fair coin? \n",
    "#### To get the expected value, you must calculate the probability of the toss landing on heads and the probability of it landing on tails (i.e., not heads)."
   ]
  },
  {
   "cell_type": "code",
   "execution_count": null,
   "id": "aa3a6167",
   "metadata": {},
   "outputs": [],
   "source": []
  },
  {
   "cell_type": "markdown",
   "id": "3b34b651",
   "metadata": {},
   "source": [
    "---"
   ]
  },
  {
   "cell_type": "markdown",
   "id": "fbce35de",
   "metadata": {},
   "source": [
    "### 2.) Assuming heads = 1 and tails = 0, what’s the expected value (frequency) of flipping heads for the toss of a fair coin twice?\n",
    "(**Three possible outcomes: 0 heads, 1 head, 2 heads**)"
   ]
  },
  {
   "cell_type": "code",
   "execution_count": null,
   "id": "ea11519c",
   "metadata": {},
   "outputs": [],
   "source": []
  },
  {
   "cell_type": "markdown",
   "id": "fb801bd4",
   "metadata": {},
   "source": [
    "---"
   ]
  },
  {
   "cell_type": "markdown",
   "id": "14ad6c8d",
   "metadata": {},
   "source": [
    "### 3.) You are one of a thousand people to purchase a lottery ticket. The ticket costs \\\\$10 and pays out \\\\$5000. What value should you expect from this transaction? "
   ]
  },
  {
   "cell_type": "code",
   "execution_count": null,
   "id": "e89e8780",
   "metadata": {},
   "outputs": [],
   "source": []
  }
 ],
 "metadata": {
  "kernelspec": {
   "display_name": "Python 3 (ipykernel)",
   "language": "python",
   "name": "python3"
  },
  "language_info": {
   "codemirror_mode": {
    "name": "ipython",
    "version": 3
   },
   "file_extension": ".py",
   "mimetype": "text/x-python",
   "name": "python",
   "nbconvert_exporter": "python",
   "pygments_lexer": "ipython3",
   "version": "3.11.5"
  }
 },
 "nbformat": 4,
 "nbformat_minor": 5
}
