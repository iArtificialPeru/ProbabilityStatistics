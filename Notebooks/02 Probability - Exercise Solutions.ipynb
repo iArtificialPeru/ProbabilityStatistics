{
 "cells": [
  {
   "cell_type": "markdown",
   "id": "a871baaa",
   "metadata": {},
   "source": [
    "#  Probability - Exercise Solutions"
   ]
  },
  {
   "cell_type": "markdown",
   "id": "a0c82d4a",
   "metadata": {},
   "source": [
    "### 1. What is the probability of drawing the ace of spades twice in a row? (Assume that any card drawn on the first draw will be put back in the deck before the second draw.)"
   ]
  },
  {
   "cell_type": "markdown",
   "id": "26ded131",
   "metadata": {},
   "source": [
    "$$ P(\\text{ace of spades}) \\times P(\\text{ace of spades}) = \\left(\\frac{1}{52}\\right)\\left(\\frac{1}{52}\\right) = \\frac{1}{2704} = 0.00037 = 0.037\\% $$"
   ]
  },
  {
   "cell_type": "code",
   "execution_count": null,
   "id": "2a057246",
   "metadata": {},
   "outputs": [],
   "source": [
    "# Well less than a 1% chance\n",
    "\n",
    "(1/52)*(1/52)"
   ]
  },
  {
   "cell_type": "markdown",
   "id": "5c876bde",
   "metadata": {},
   "source": [
    "---"
   ]
  },
  {
   "cell_type": "markdown",
   "id": "0d69255a",
   "metadata": {},
   "source": [
    "### 2. You draw a card from a deck of cards. After replacing the drawn card back into the deck and shuffling thoroughly, what is the probability of drawing the same card again? "
   ]
  },
  {
   "cell_type": "markdown",
   "id": "10b50f13",
   "metadata": {},
   "source": [
    "$$ P(\\text{any card}) = \\frac{52}{52} = 1 $$\n",
    "$$ P(\\text{same card as first draw}) = \\frac{1}{52} \\approx 0.019 $$\n",
    "$$ P(\\text{any card})P(\\text{same card as first draw}) = (1)(\\frac{1}{52}) = \\frac{1}{52} \\approx 0.019$$"
   ]
  },
  {
   "cell_type": "code",
   "execution_count": null,
   "id": "959af751",
   "metadata": {},
   "outputs": [],
   "source": [
    "# Less than a 2% chance\n",
    "\n",
    "1*(1/52)"
   ]
  },
  {
   "cell_type": "markdown",
   "id": "01806b08",
   "metadata": {},
   "source": [
    "---"
   ]
  },
  {
   "cell_type": "markdown",
   "id": "3d6039ad",
   "metadata": {},
   "source": [
    "### 3. Use $n \\choose k$ to calculate the probability of throwing three heads in five coin tosses.\n",
    "The $n \\choose k$ formula $\\frac{n!}{k!(n - k)!}$"
   ]
  },
  {
   "cell_type": "markdown",
   "id": "7020410c",
   "metadata": {},
   "source": [
    "$$ {n \\choose k} = {5 \\choose 3} = \\frac{5!}{3!(5 - 3)!} = \\frac{5!}{(3!)(2!)} = \\frac{5 \\times 4 \\times 3 \\times 2 \\times 1}{(3 \\times 2 \\times 1)(2 \\times 1)} = \\frac{120}{(6)(2)} = \\frac{120}{12} = 10 $$"
   ]
  },
  {
   "cell_type": "markdown",
   "id": "430811a4",
   "metadata": {},
   "source": [
    "$$  \\frac {10} {2^n} = \\frac {10} {2^5} = \\frac {10} {32} = .3125 $$"
   ]
  },
  {
   "cell_type": "code",
   "execution_count": null,
   "id": "57fbf284",
   "metadata": {},
   "outputs": [],
   "source": [
    "# Event space\n",
    "\n",
    "numerator = (5*4*3*2*1) / ((3*2*1)*(2*1))\n",
    "numerator"
   ]
  },
  {
   "cell_type": "code",
   "execution_count": null,
   "id": "3e989568",
   "metadata": {},
   "outputs": [],
   "source": [
    "# Sample space\n",
    "\n",
    "denominator = 2**5\n",
    "denominator"
   ]
  },
  {
   "cell_type": "code",
   "execution_count": null,
   "id": "63edfd44",
   "metadata": {},
   "outputs": [],
   "source": [
    "# Probability of Event occuring\n",
    "\n",
    "numerator/denominator"
   ]
  },
  {
   "cell_type": "markdown",
   "id": "a36dc4fa",
   "metadata": {},
   "source": [
    "---"
   ]
  },
  {
   "cell_type": "markdown",
   "id": "6b3f47ff",
   "metadata": {},
   "source": [
    "# n choose k"
   ]
  },
  {
   "cell_type": "code",
   "execution_count": null,
   "id": "e46bbc19",
   "metadata": {},
   "outputs": [],
   "source": [
    "from math import factorial"
   ]
  },
  {
   "cell_type": "code",
   "execution_count": null,
   "id": "8c64f0ed",
   "metadata": {},
   "outputs": [],
   "source": [
    "def coinflip_prob(n, k):\n",
    "    n_choose_k = factorial(n)/(factorial(k)*factorial(n-k))\n",
    "    return n_choose_k/2**n"
   ]
  },
  {
   "cell_type": "code",
   "execution_count": null,
   "id": "16f90788",
   "metadata": {},
   "outputs": [],
   "source": [
    "coinflip_prob(5, 3)"
   ]
  }
 ],
 "metadata": {
  "kernelspec": {
   "display_name": "Python 3 (ipykernel)",
   "language": "python",
   "name": "python3"
  },
  "language_info": {
   "codemirror_mode": {
    "name": "ipython",
    "version": 3
   },
   "file_extension": ".py",
   "mimetype": "text/x-python",
   "name": "python",
   "nbconvert_exporter": "python",
   "pygments_lexer": "ipython3",
   "version": "3.11.5"
  }
 },
 "nbformat": 4,
 "nbformat_minor": 5
}
