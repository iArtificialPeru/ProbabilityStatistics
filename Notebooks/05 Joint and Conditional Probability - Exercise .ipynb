{
 "cells": [
  {
   "cell_type": "markdown",
   "id": "4a3859b7",
   "metadata": {},
   "source": [
    "# Joint and Conditional Probability - Exercise"
   ]
  },
  {
   "cell_type": "markdown",
   "id": "bd23e72d",
   "metadata": {},
   "source": [
    "## 1.) What is the joint probability of drawing a face card that is a black card?\n",
    "P(card type = face, card color = black)"
   ]
  },
  {
   "cell_type": "code",
   "execution_count": null,
   "id": "db9ca816",
   "metadata": {},
   "outputs": [],
   "source": []
  },
  {
   "cell_type": "markdown",
   "id": "cb660f3d",
   "metadata": {},
   "source": [
    "---"
   ]
  },
  {
   "cell_type": "markdown",
   "id": "e78e4d30",
   "metadata": {},
   "source": [
    "## 2.) What is the conditional probability of drawing a face card (without replacement) given that a face card was just drawn?\n",
    "P(card 2 = face | card 1 = face)"
   ]
  },
  {
   "cell_type": "markdown",
   "id": "f2162fb2",
   "metadata": {},
   "source": [
    "$ P(y | x) =  \\frac{P(y, x)}{P(x)}$"
   ]
  },
  {
   "cell_type": "code",
   "execution_count": null,
   "id": "149d7b93",
   "metadata": {},
   "outputs": [],
   "source": []
  }
 ],
 "metadata": {
  "kernelspec": {
   "display_name": "Python 3 (ipykernel)",
   "language": "python",
   "name": "python3"
  },
  "language_info": {
   "codemirror_mode": {
    "name": "ipython",
    "version": 3
   },
   "file_extension": ".py",
   "mimetype": "text/x-python",
   "name": "python",
   "nbconvert_exporter": "python",
   "pygments_lexer": "ipython3",
   "version": "3.11.5"
  }
 },
 "nbformat": 4,
 "nbformat_minor": 5
}
