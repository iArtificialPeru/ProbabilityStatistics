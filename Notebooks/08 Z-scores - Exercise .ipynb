{
 "cells": [
  {
   "cell_type": "markdown",
   "id": "13bdcf91",
   "metadata": {},
   "source": [
    "# Z-scores - Exercise"
   ]
  },
  {
   "cell_type": "markdown",
   "id": "729828c5",
   "metadata": {},
   "source": [
    "## 1.) What is the probabaility of a z-score less than to 2.39?\n",
    "\n",
    "## P(Z<2.39)"
   ]
  },
  {
   "cell_type": "code",
   "execution_count": null,
   "id": "bad72c9d",
   "metadata": {},
   "outputs": [],
   "source": []
  },
  {
   "cell_type": "markdown",
   "id": "97809862",
   "metadata": {},
   "source": [
    "---"
   ]
  },
  {
   "cell_type": "markdown",
   "id": "5a14cf6a",
   "metadata": {},
   "source": [
    "## 2.) What is the probabaility of a z-score less than to -1.40?\n",
    "\n",
    "## P(Z<-1.40)"
   ]
  },
  {
   "cell_type": "code",
   "execution_count": null,
   "id": "224ebb7c",
   "metadata": {},
   "outputs": [],
   "source": []
  },
  {
   "cell_type": "markdown",
   "id": "e1f3f013",
   "metadata": {},
   "source": [
    "---"
   ]
  },
  {
   "cell_type": "markdown",
   "id": "219bd864",
   "metadata": {},
   "source": [
    "## 3.) What is the probability of a z-score falling between the values 2.39 and -1.40?\n",
    "\n",
    "## P(-1.40> Z <2.39)"
   ]
  },
  {
   "cell_type": "code",
   "execution_count": null,
   "id": "922ab932",
   "metadata": {},
   "outputs": [],
   "source": []
  },
  {
   "cell_type": "markdown",
   "id": "ea9b3e97",
   "metadata": {},
   "source": [
    "---"
   ]
  },
  {
   "cell_type": "markdown",
   "id": "a29b19cb",
   "metadata": {},
   "source": [
    "![](images/normal.png)"
   ]
  },
  {
   "cell_type": "markdown",
   "id": "00963374",
   "metadata": {},
   "source": [
    "---"
   ]
  },
  {
   "cell_type": "markdown",
   "id": "bfa03a03",
   "metadata": {},
   "source": [
    "### Use the Z-table to find probabilities for z. "
   ]
  },
  {
   "cell_type": "markdown",
   "id": "282bc9e2",
   "metadata": {},
   "source": [
    "#### To use the Z-table to find probabilities, do the following:\n",
    "\n",
    "1. Go to the row that represents the leading digit of your z-value and the first digit after the decimal point.\n",
    "2. Go to the column that represents the second digit after the decimal point of your z-value.\n",
    "3. Intersect the row and column."
   ]
  },
  {
   "cell_type": "markdown",
   "id": "378c5ab6",
   "metadata": {},
   "source": [
    "### Positive z-scores"
   ]
  },
  {
   "cell_type": "markdown",
   "id": "6a631abc",
   "metadata": {},
   "source": [
    "![](images/pos_z-table.png)"
   ]
  },
  {
   "cell_type": "markdown",
   "id": "49354d1c",
   "metadata": {},
   "source": [
    "### Negative z-scores"
   ]
  },
  {
   "cell_type": "markdown",
   "id": "a9f9e612",
   "metadata": {},
   "source": [
    "![](images/neg_z-table.png)"
   ]
  }
 ],
 "metadata": {
  "kernelspec": {
   "display_name": "Python 3 (ipykernel)",
   "language": "python",
   "name": "python3"
  },
  "language_info": {
   "codemirror_mode": {
    "name": "ipython",
    "version": 3
   },
   "file_extension": ".py",
   "mimetype": "text/x-python",
   "name": "python",
   "nbconvert_exporter": "python",
   "pygments_lexer": "ipython3",
   "version": "3.11.5"
  }
 },
 "nbformat": 4,
 "nbformat_minor": 5
}
