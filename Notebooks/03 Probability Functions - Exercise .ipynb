{
 "cells": [
  {
   "cell_type": "markdown",
   "id": "9a54106b",
   "metadata": {},
   "source": [
    "# Probability Functions - Exercise"
   ]
  },
  {
   "cell_type": "markdown",
   "id": "b78adce9",
   "metadata": {},
   "source": [
    "## For each the following, indicate whether a Probability Mass Function (PMF) or Probability Density Function (PDF) would be better suited for describing it."
   ]
  },
  {
   "cell_type": "markdown",
   "id": "b573c13c",
   "metadata": {},
   "source": [
    "### 1.) The likelihood of a student getting accepted into a given college."
   ]
  },
  {
   "cell_type": "code",
   "execution_count": null,
   "id": "8c3a544c",
   "metadata": {},
   "outputs": [],
   "source": []
  },
  {
   "cell_type": "markdown",
   "id": "ace59087",
   "metadata": {},
   "source": [
    "### 2.) The duration of time it takes co-workers to commute to work."
   ]
  },
  {
   "cell_type": "code",
   "execution_count": null,
   "id": "ddb2d904",
   "metadata": {},
   "outputs": [],
   "source": []
  },
  {
   "cell_type": "markdown",
   "id": "c3a6063b",
   "metadata": {},
   "source": [
    "### 3.) The number of cars owned in one's lifetime."
   ]
  },
  {
   "cell_type": "code",
   "execution_count": null,
   "id": "63d3e512",
   "metadata": {},
   "outputs": [],
   "source": []
  },
  {
   "cell_type": "markdown",
   "id": "d574947d",
   "metadata": {},
   "source": [
    "### 4.) Determine whether a PMF or PDF best describes the distribution for each of the features (columns) in the following dataset."
   ]
  },
  {
   "cell_type": "code",
   "execution_count": null,
   "id": "28e133f3",
   "metadata": {},
   "outputs": [],
   "source": [
    "import pandas as pd\n",
    "df = pd.read_csv(\"employees.csv\")\n",
    "df"
   ]
  },
  {
   "cell_type": "markdown",
   "id": "46cc8d13-4cea-442e-99c8-14247e3356cb",
   "metadata": {},
   "source": [
    "---"
   ]
  }
 ],
 "metadata": {
  "kernelspec": {
   "display_name": "Python 3 (ipykernel)",
   "language": "python",
   "name": "python3"
  },
  "language_info": {
   "codemirror_mode": {
    "name": "ipython",
    "version": 3
   },
   "file_extension": ".py",
   "mimetype": "text/x-python",
   "name": "python",
   "nbconvert_exporter": "python",
   "pygments_lexer": "ipython3",
   "version": "3.11.5"
  }
 },
 "nbformat": 4,
 "nbformat_minor": 5
}
