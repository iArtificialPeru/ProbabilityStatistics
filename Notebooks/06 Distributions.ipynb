{
 "cells": [
  {
   "cell_type": "markdown",
   "id": "c676d54a",
   "metadata": {},
   "source": [
    "# Distributions"
   ]
  },
  {
   "cell_type": "code",
   "execution_count": null,
   "id": "039ddd67",
   "metadata": {},
   "outputs": [],
   "source": [
    "import matplotlib.pyplot as plt\n",
    "import seaborn as sns\n",
    "import numpy as np"
   ]
  },
  {
   "cell_type": "markdown",
   "id": "af655885",
   "metadata": {},
   "source": [
    "## Uniform Distribution\n",
    "It has constant probabilities across the entire range of values in its domain."
   ]
  },
  {
   "cell_type": "code",
   "execution_count": null,
   "id": "0dbb5fd2",
   "metadata": {},
   "outputs": [],
   "source": [
    "# 10000 numbers\n",
    "\n",
    "u = np.random.uniform(size=10000)\n",
    "\n",
    "fig, ax = plt.subplots()\n",
    "ax.hist(u, edgecolor=\"k\")\n",
    "ax.set_ylabel('Count');"
   ]
  },
  {
   "cell_type": "markdown",
   "id": "8fe29ef2",
   "metadata": {},
   "source": [
    "Real-world examples:\n",
    "\n",
    "* Model hyperparameters"
   ]
  },
  {
   "cell_type": "markdown",
   "id": "d26f4063",
   "metadata": {},
   "source": [
    "---"
   ]
  },
  {
   "cell_type": "markdown",
   "id": "64d2645a",
   "metadata": {},
   "source": [
    "## Normal distribution\n",
    "\n",
    "Emperical rule: 68 - 95 - 99.7\n",
    "\n",
    "Mean = 0; Stdev = 1"
   ]
  },
  {
   "cell_type": "code",
   "execution_count": null,
   "id": "dfc41757",
   "metadata": {},
   "outputs": [],
   "source": [
    "normal_dist = np.random.normal(size=10000)\n",
    "\n",
    "fig, ax = plt.subplots()\n",
    "ax.hist(normal_dist, edgecolor=\"k\", bins = 100)\n",
    "ax.set_ylabel('Count');"
   ]
  },
  {
   "cell_type": "markdown",
   "id": "8fd61b8b",
   "metadata": {},
   "source": [
    "Real-world examples:\n",
    "\n",
    "* Data imputation"
   ]
  },
  {
   "cell_type": "markdown",
   "id": "48c57c86",
   "metadata": {},
   "source": [
    "---"
   ]
  },
  {
   "cell_type": "markdown",
   "id": "522741db",
   "metadata": {},
   "source": [
    "## Central Limit Theorem"
   ]
  },
  {
   "cell_type": "code",
   "execution_count": null,
   "id": "6aeecb58",
   "metadata": {},
   "outputs": [],
   "source": [
    "# Randomly sample 10 values from the normally distributed 10000 values (without replacement)\n",
    "\n",
    "normal_sample = np.random.choice(normal_dist, size=10, replace=False)\n",
    "normal_sample"
   ]
  },
  {
   "cell_type": "markdown",
   "id": "17db3fa1",
   "metadata": {},
   "source": [
    "### The mean of a sample isn't always going to be close to zero with such a small sample:"
   ]
  },
  {
   "cell_type": "code",
   "execution_count": null,
   "id": "336a564a",
   "metadata": {},
   "outputs": [],
   "source": [
    "np.mean(normal_sample)"
   ]
  },
  {
   "cell_type": "markdown",
   "id": "2d84e97c",
   "metadata": {},
   "source": [
    "### Let's define a function for generating **sampling distributions** of the mean of a given input distribution:\n",
    "\n",
    "#### (distribution of sample means)"
   ]
  },
  {
   "cell_type": "code",
   "execution_count": null,
   "id": "622c1c5d",
   "metadata": {},
   "outputs": [],
   "source": [
    "# Gets random samples from a distribution and returns the means of those samples\n",
    "\n",
    "def sample_mean_calculator(input_dist, sample_size, n_samples):\n",
    "    sample_means = []\n",
    "    for i in range(n_samples):\n",
    "        sample = np.random.choice(input_dist, size=sample_size, replace=False)\n",
    "        sample_means.append(sample.mean())\n",
    "    return sample_means"
   ]
  },
  {
   "cell_type": "code",
   "execution_count": null,
   "id": "1111f33d",
   "metadata": {},
   "outputs": [],
   "source": [
    "fig, ax = plt.subplots()\n",
    "ax.hist(sample_mean_calculator(normal_dist, 10, 10), color='gold', edgecolor=\"k\")\n",
    "ax.set_xlim(-1.5, 1.5);"
   ]
  },
  {
   "cell_type": "markdown",
   "id": "2298324b",
   "metadata": {},
   "source": [
    "### The more samples we take, the more likely that the sampling distribution of the means will be normally distributed:"
   ]
  },
  {
   "cell_type": "code",
   "execution_count": null,
   "id": "88d8e96f",
   "metadata": {},
   "outputs": [],
   "source": [
    "fig, ax = plt.subplots()\n",
    "ax.hist(sample_mean_calculator(normal_dist, 10, 1000), color='gold', edgecolor=\"k\")\n",
    "ax.set_xlim(-1.5, 1.5);"
   ]
  },
  {
   "cell_type": "markdown",
   "id": "fafdf706",
   "metadata": {},
   "source": [
    "### The larger the sample, the tighter the sample means will tend to be around the population mean:"
   ]
  },
  {
   "cell_type": "code",
   "execution_count": null,
   "id": "8e1ad623",
   "metadata": {},
   "outputs": [],
   "source": [
    "fig, ax = plt.subplots()\n",
    "ax.hist(sample_mean_calculator(normal_dist, 100, 1000), color='gold', edgecolor=\"k\")\n",
    "ax.set_xlim(-1.5, 1.5);"
   ]
  },
  {
   "cell_type": "markdown",
   "id": "8e6d5c64",
   "metadata": {},
   "source": [
    "## Sampling from a skewed distribution"
   ]
  },
  {
   "cell_type": "code",
   "execution_count": null,
   "id": "486ad472",
   "metadata": {},
   "outputs": [],
   "source": [
    "import scipy.stats as st\n",
    "\n",
    "s = st.skewnorm.rvs(10, size=10000)\n",
    "\n",
    "sns.displot(s, kde=True);"
   ]
  },
  {
   "cell_type": "markdown",
   "id": "5e466786",
   "metadata": {},
   "source": [
    "### Sampling distribution"
   ]
  },
  {
   "cell_type": "code",
   "execution_count": null,
   "id": "8baecf98",
   "metadata": {},
   "outputs": [],
   "source": [
    "sns.displot(sample_mean_calculator(s, 10, 1000), color='gold', kde=True);"
   ]
  },
  {
   "cell_type": "markdown",
   "id": "927d7d96",
   "metadata": {},
   "source": [
    "## Sampling from a multimodal distribution"
   ]
  },
  {
   "cell_type": "code",
   "execution_count": null,
   "id": "cfd5c0e6",
   "metadata": {},
   "outputs": [],
   "source": [
    "m = np.concatenate((np.random.normal(size=5000), np.random.normal(loc = 4.0, size=5000)))\n",
    "\n",
    "sns.displot(m, kde=True);"
   ]
  },
  {
   "cell_type": "markdown",
   "id": "93f7c612",
   "metadata": {},
   "source": [
    "### Sampling distribution"
   ]
  },
  {
   "cell_type": "code",
   "execution_count": null,
   "id": "08ed160d",
   "metadata": {},
   "outputs": [],
   "source": [
    "sns.displot(sample_mean_calculator(m, 1000, 1000), color='gold', kde=True);"
   ]
  },
  {
   "cell_type": "markdown",
   "id": "71580dac",
   "metadata": {},
   "source": [
    "## Sampling from uniform"
   ]
  },
  {
   "cell_type": "code",
   "execution_count": null,
   "id": "9c9460d1",
   "metadata": {},
   "outputs": [],
   "source": [
    "sns.displot(u);"
   ]
  },
  {
   "cell_type": "markdown",
   "id": "4c223a22",
   "metadata": {},
   "source": [
    "### Even sampling from the highly non-normal uniform distribution, the sampling distribution comes out normal: "
   ]
  },
  {
   "cell_type": "code",
   "execution_count": null,
   "id": "0dbfb411",
   "metadata": {},
   "outputs": [],
   "source": [
    "sns.displot(sample_mean_calculator(u, 1000, 1000), color='gold', kde=True);"
   ]
  },
  {
   "cell_type": "markdown",
   "id": "1098d90f",
   "metadata": {},
   "source": [
    "Therefore, with large enough sample sizes, we can assume that the sampling distribution of the means will be normally distributed, allowing us to apply statistical and ML models that are configured for normally distributed data, which is often the default assumption."
   ]
  },
  {
   "cell_type": "markdown",
   "id": "3ae2c4c0",
   "metadata": {},
   "source": [
    "---"
   ]
  },
  {
   "cell_type": "markdown",
   "id": "b109439f",
   "metadata": {},
   "source": [
    "## Binomial Distribution\n",
    "For discrete variables (PMF). \n",
    "\n",
    "Its parameters are: \n",
    "\n",
    "* *n*: number of trials\n",
    "* *p*: probability of outcome of 1\n",
    "* *size*: number of experiments with *n* trials each"
   ]
  },
  {
   "cell_type": "code",
   "execution_count": null,
   "id": "3234af46",
   "metadata": {},
   "outputs": [],
   "source": [
    "# coin flips\n",
    "n = 5\n",
    "\n",
    "# number of experiments \n",
    "n_experiments = 1000"
   ]
  },
  {
   "cell_type": "markdown",
   "id": "c1e581db",
   "metadata": {},
   "source": [
    "#### Fair coin (p = 0.5)"
   ]
  },
  {
   "cell_type": "code",
   "execution_count": null,
   "id": "55eb49fb",
   "metadata": {},
   "outputs": [],
   "source": [
    "heads_count = np.random.binomial(n, 0.5, n_experiments)\n",
    "\n",
    "heads, event_count = np.unique(heads_count, return_counts=True)\n",
    "event_proba = event_count/n_experiments"
   ]
  },
  {
   "cell_type": "code",
   "execution_count": null,
   "id": "a6d038aa",
   "metadata": {},
   "outputs": [],
   "source": [
    "heads_count"
   ]
  },
  {
   "cell_type": "markdown",
   "id": "9eed18bc",
   "metadata": {},
   "source": [
    "### Frequency distribution"
   ]
  },
  {
   "cell_type": "code",
   "execution_count": null,
   "id": "84884dfb",
   "metadata": {
    "scrolled": true
   },
   "outputs": [],
   "source": [
    "heads, event_count"
   ]
  },
  {
   "cell_type": "markdown",
   "id": "79371d52",
   "metadata": {},
   "source": [
    "### Probability distribution"
   ]
  },
  {
   "cell_type": "code",
   "execution_count": null,
   "id": "2fc924ff",
   "metadata": {
    "scrolled": true
   },
   "outputs": [],
   "source": [
    "event_proba"
   ]
  },
  {
   "cell_type": "markdown",
   "id": "26d365f8",
   "metadata": {},
   "source": [
    "### Visualize distribution"
   ]
  },
  {
   "cell_type": "code",
   "execution_count": null,
   "id": "218c5070",
   "metadata": {},
   "outputs": [],
   "source": [
    "plt.bar(heads, event_proba, color='#FA166C')\n",
    "plt.xlabel('Heads flips (out of 5 tosses)')\n",
    "plt.ylabel('Event probability');"
   ]
  },
  {
   "cell_type": "markdown",
   "id": "1d676a2c",
   "metadata": {},
   "source": [
    "#### Weighted coin (p = 0.8)"
   ]
  },
  {
   "cell_type": "code",
   "execution_count": null,
   "id": "6f34c7c1",
   "metadata": {},
   "outputs": [],
   "source": [
    "heads_count = np.random.binomial(n, 0.8, n_experiments)\n",
    "\n",
    "heads, event_count = np.unique(heads_count, return_counts=True)\n",
    "event_proba = event_count/n_experiments"
   ]
  },
  {
   "cell_type": "markdown",
   "id": "2f9814e8",
   "metadata": {},
   "source": [
    "### Frequency distribution"
   ]
  },
  {
   "cell_type": "code",
   "execution_count": null,
   "id": "8f7b3d9e",
   "metadata": {},
   "outputs": [],
   "source": [
    "heads, event_count"
   ]
  },
  {
   "cell_type": "markdown",
   "id": "10896f05",
   "metadata": {},
   "source": [
    "### Probability distribution"
   ]
  },
  {
   "cell_type": "code",
   "execution_count": null,
   "id": "9db78623",
   "metadata": {
    "scrolled": true
   },
   "outputs": [],
   "source": [
    "event_proba"
   ]
  },
  {
   "cell_type": "markdown",
   "id": "5c694386",
   "metadata": {},
   "source": [
    "### Visualize distribution"
   ]
  },
  {
   "cell_type": "code",
   "execution_count": null,
   "id": "68e2490c",
   "metadata": {},
   "outputs": [],
   "source": [
    "plt.bar(heads, event_proba, color='#FA166C')\n",
    "plt.xlabel('Heads flips (out of 5 tosses)')\n",
    "plt.ylabel('Event probability');"
   ]
  },
  {
   "cell_type": "markdown",
   "id": "c3dff221",
   "metadata": {},
   "source": [
    "Real-world examples:\n",
    "\n",
    "* Arriving to work on time\n",
    "* Contracting a virus\n",
    "* Purchasing a product"
   ]
  },
  {
   "cell_type": "markdown",
   "id": "579502e6",
   "metadata": {},
   "source": [
    "---"
   ]
  },
  {
   "cell_type": "markdown",
   "id": "9e3c89ba",
   "metadata": {},
   "source": [
    "## Multinomial Distribution\n",
    "Generalization of the binomial distribution to discrete random variables with more than two possible outcomes, e.g., the roll of a die: "
   ]
  },
  {
   "cell_type": "code",
   "execution_count": null,
   "id": "4da89f2a",
   "metadata": {},
   "outputs": [],
   "source": [
    "# number of rolls of a die\n",
    "n = 1000\n",
    "\n",
    "rolls = np.random.multinomial(n, [1/6, 1/6, 1/6, 1/6, 1/6, 1/6]) # also can be written as [1/6]*6"
   ]
  },
  {
   "cell_type": "markdown",
   "id": "c0ac4e24",
   "metadata": {},
   "source": [
    "### Frequency distribution"
   ]
  },
  {
   "cell_type": "code",
   "execution_count": null,
   "id": "ec406515",
   "metadata": {},
   "outputs": [],
   "source": [
    "# rolling a [1, 2, 3, 4, 5, 6]\n",
    "\n",
    "rolls"
   ]
  },
  {
   "cell_type": "markdown",
   "id": "b4e01c85",
   "metadata": {},
   "source": [
    "### Probability distribution"
   ]
  },
  {
   "cell_type": "code",
   "execution_count": null,
   "id": "1dc899d4",
   "metadata": {},
   "outputs": [],
   "source": [
    "event_proba = rolls/n\n",
    "event_proba"
   ]
  },
  {
   "cell_type": "markdown",
   "id": "7041f9d9",
   "metadata": {},
   "source": [
    "### Visualize distribution"
   ]
  },
  {
   "cell_type": "code",
   "execution_count": null,
   "id": "2f5f10ad",
   "metadata": {},
   "outputs": [],
   "source": [
    "plt.bar(range(1, 7), event_proba, color='#FA166C')\n",
    "plt.xlabel('Die roll')\n",
    "plt.ylabel('Event probability');"
   ]
  },
  {
   "cell_type": "markdown",
   "id": "0b2a6b09",
   "metadata": {},
   "source": [
    "---"
   ]
  }
 ],
 "metadata": {
  "kernelspec": {
   "display_name": "Python 3 (ipykernel)",
   "language": "python",
   "name": "python3"
  },
  "language_info": {
   "codemirror_mode": {
    "name": "ipython",
    "version": 3
   },
   "file_extension": ".py",
   "mimetype": "text/x-python",
   "name": "python",
   "nbconvert_exporter": "python",
   "pygments_lexer": "ipython3",
   "version": "3.11.5"
  }
 },
 "nbformat": 4,
 "nbformat_minor": 5
}
