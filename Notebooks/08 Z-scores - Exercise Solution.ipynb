{
 "cells": [
  {
   "cell_type": "markdown",
   "id": "ac6e72cc",
   "metadata": {},
   "source": [
    "# Z-scores - Exercise Solution"
   ]
  },
  {
   "cell_type": "markdown",
   "id": "210d254b",
   "metadata": {},
   "source": [
    "## 1.) What is the probabaility of a z-score less than to 2.39?\n",
    "\n",
    "## P(Z<2.39)"
   ]
  },
  {
   "cell_type": "markdown",
   "id": "e8f4b04e",
   "metadata": {},
   "source": [
    "## P(Z<2.39) = .9916"
   ]
  },
  {
   "cell_type": "markdown",
   "id": "91ad70ac",
   "metadata": {},
   "source": [
    "---"
   ]
  },
  {
   "cell_type": "markdown",
   "id": "f68ae70b",
   "metadata": {},
   "source": [
    "## 2.) What is the probabaility of a z-score less than to -1.40?\n",
    "\n",
    "## P(Z<-1.40)"
   ]
  },
  {
   "cell_type": "markdown",
   "id": "e3f1b912",
   "metadata": {},
   "source": [
    "## P(Z<-1.40) = .0808"
   ]
  },
  {
   "cell_type": "markdown",
   "id": "f7679060",
   "metadata": {},
   "source": [
    "---"
   ]
  },
  {
   "cell_type": "markdown",
   "id": "b562fd2c",
   "metadata": {},
   "source": [
    "## 3.) What is the probability of a z-score falling between the values 2.39 and -1.40?\n",
    "\n",
    "## P(-1.40> Z <2.39)"
   ]
  },
  {
   "cell_type": "markdown",
   "id": "98b54636",
   "metadata": {},
   "source": [
    "## .9916 - .0808  = .9108"
   ]
  },
  {
   "cell_type": "markdown",
   "id": "0742f535",
   "metadata": {},
   "source": [
    "---"
   ]
  },
  {
   "cell_type": "markdown",
   "id": "26c15918",
   "metadata": {},
   "source": [
    "## Cumulative Distribution Function (CDF)\n",
    "Calculates the probability of a given z-score."
   ]
  },
  {
   "cell_type": "code",
   "execution_count": null,
   "id": "c5ca6957",
   "metadata": {},
   "outputs": [],
   "source": [
    "from scipy import stats"
   ]
  },
  {
   "cell_type": "code",
   "execution_count": null,
   "id": "77c63614",
   "metadata": {},
   "outputs": [],
   "source": [
    "stats.norm.cdf(2.39)"
   ]
  },
  {
   "cell_type": "code",
   "execution_count": null,
   "id": "c4149032",
   "metadata": {},
   "outputs": [],
   "source": [
    "stats.norm.cdf(-1.40)"
   ]
  },
  {
   "cell_type": "markdown",
   "id": "2a223b98",
   "metadata": {},
   "source": [
    "---"
   ]
  },
  {
   "cell_type": "markdown",
   "id": "20fbe4e9",
   "metadata": {},
   "source": [
    "![](images/normal.png)"
   ]
  },
  {
   "cell_type": "markdown",
   "id": "06d14d1a",
   "metadata": {},
   "source": [
    "---"
   ]
  },
  {
   "cell_type": "markdown",
   "id": "93f81a0b",
   "metadata": {},
   "source": [
    "### Use the Z-table to find probabilities for z. "
   ]
  },
  {
   "cell_type": "markdown",
   "id": "67b963a0",
   "metadata": {},
   "source": [
    "#### To use the Z-table to find probabilities, do the following:\n",
    "\n",
    "1. Go to the row that represents the leading digit of your z-value and the first digit after the decimal point.\n",
    "2. Go to the column that represents the second digit after the decimal point of your z-value.\n",
    "3. Intersect the row and column."
   ]
  },
  {
   "cell_type": "markdown",
   "id": "bb9f5dab",
   "metadata": {},
   "source": [
    "### Positive z-scores"
   ]
  },
  {
   "cell_type": "markdown",
   "id": "6a631abc",
   "metadata": {},
   "source": [
    "![](images/pos_z-table.png)"
   ]
  },
  {
   "cell_type": "markdown",
   "id": "38789e76",
   "metadata": {},
   "source": [
    "### Negative z-scores"
   ]
  },
  {
   "cell_type": "markdown",
   "id": "73d27277",
   "metadata": {},
   "source": [
    "![](images/neg_z-table.png)"
   ]
  }
 ],
 "metadata": {
  "kernelspec": {
   "display_name": "Python 3 (ipykernel)",
   "language": "python",
   "name": "python3"
  },
  "language_info": {
   "codemirror_mode": {
    "name": "ipython",
    "version": 3
   },
   "file_extension": ".py",
   "mimetype": "text/x-python",
   "name": "python",
   "nbconvert_exporter": "python",
   "pygments_lexer": "ipython3",
   "version": "3.11.5"
  }
 },
 "nbformat": 4,
 "nbformat_minor": 5
}
