{
 "cells": [
  {
   "cell_type": "markdown",
   "id": "22c4ae41",
   "metadata": {},
   "source": [
    "# Probability Functions - Exercise Solution"
   ]
  },
  {
   "cell_type": "markdown",
   "id": "d02f37ea",
   "metadata": {},
   "source": [
    "## For each the following, indicate whether a Probability Mass Function (PMF) or Probability Density Function (PDF) would be better suited for describing it."
   ]
  },
  {
   "cell_type": "markdown",
   "id": "835b8e4f",
   "metadata": {},
   "source": [
    "### 1.) The likelihood of a student getting accepted into a given college."
   ]
  },
  {
   "cell_type": "markdown",
   "id": "dbba8fc6",
   "metadata": {},
   "source": [
    "PMF: each applicant is discrete -- Accepted or Not Accepted"
   ]
  },
  {
   "cell_type": "markdown",
   "id": "d6fdd8a7",
   "metadata": {},
   "source": [
    "### 2.) The duration of time it takes co-workers to commute to work."
   ]
  },
  {
   "cell_type": "markdown",
   "id": "bfd5d881",
   "metadata": {},
   "source": [
    "PDF: time is a continuous variable (can be infinitely precise)"
   ]
  },
  {
   "cell_type": "markdown",
   "id": "a186ac2a",
   "metadata": {},
   "source": [
    "### 3.) The number of cars owned in one's lifetime."
   ]
  },
  {
   "cell_type": "markdown",
   "id": "5c28d597",
   "metadata": {},
   "source": [
    "PMF: cars are discrete items (countable)"
   ]
  },
  {
   "cell_type": "markdown",
   "id": "f5a85b79",
   "metadata": {},
   "source": [
    "### 4.) Determine whether a PMF or PDF best describes the distribution for each of the features (columns) in the following dataset."
   ]
  },
  {
   "cell_type": "code",
   "execution_count": null,
   "id": "744325bd",
   "metadata": {},
   "outputs": [],
   "source": [
    "import pandas as pd\n",
    "df = pd.read_csv(\"employees.csv\")\n",
    "df"
   ]
  },
  {
   "cell_type": "markdown",
   "id": "118de738",
   "metadata": {},
   "source": [
    "Sex: **PMF** (discrete, countable)\n",
    "\n",
    "Age: **PMF** (discrete, countable) but could be interpreted as a **PDF**\n",
    "\n",
    "Family: **PMF** (discrete, countable)\n",
    "\n",
    "Salary: **PDF**  (continuous, not_countable)\n",
    "\n",
    "Zip Code: **PMF**  (discrete, countable)"
   ]
  },
  {
   "cell_type": "markdown",
   "id": "d6826caf",
   "metadata": {},
   "source": [
    "---"
   ]
  }
 ],
 "metadata": {
  "kernelspec": {
   "display_name": "Python 3 (ipykernel)",
   "language": "python",
   "name": "python3"
  },
  "language_info": {
   "codemirror_mode": {
    "name": "ipython",
    "version": 3
   },
   "file_extension": ".py",
   "mimetype": "text/x-python",
   "name": "python",
   "nbconvert_exporter": "python",
   "pygments_lexer": "ipython3",
   "version": "3.11.5"
  }
 },
 "nbformat": 4,
 "nbformat_minor": 5
}
