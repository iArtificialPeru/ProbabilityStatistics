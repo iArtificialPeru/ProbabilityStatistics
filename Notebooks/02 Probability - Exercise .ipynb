{
  "cells": [
    {
      "cell_type": "markdown",
      "metadata": {
        "id": "view-in-github",
        "colab_type": "text"
      },
      "source": [
        "<a href=\"https://colab.research.google.com/github/iArtificialPeru/ProbabilityStatistics/blob/main/Notebooks/02%20Probability%20-%20Exercise%20.ipynb\" target=\"_parent\"><img src=\"https://colab.research.google.com/assets/colab-badge.svg\" alt=\"Open In Colab\"/></a>"
      ]
    },
    {
      "cell_type": "markdown",
      "id": "45463cfa",
      "metadata": {
        "id": "45463cfa"
      },
      "source": [
        "#  Probability - Exercises"
      ]
    },
    {
      "cell_type": "markdown",
      "id": "33cc16d8",
      "metadata": {
        "id": "33cc16d8"
      },
      "source": [
        "### 1. What is the probability of drawing the ace of spades twice in a row? (Assume that any card drawn on the first draw will be put back in the deck before the second draw.)"
      ]
    },
    {
      "cell_type": "code",
      "execution_count": 1,
      "id": "87156da1",
      "metadata": {
        "id": "87156da1",
        "outputId": "1e229936-0fe7-4d86-b58b-6689ce74d5bf",
        "colab": {
          "base_uri": "https://localhost:8080/"
        }
      },
      "outputs": [
        {
          "output_type": "execute_result",
          "data": {
            "text/plain": [
              "0.00036982248520710064"
            ]
          },
          "metadata": {},
          "execution_count": 1
        }
      ],
      "source": [
        "# prompt: What is the probability of drawing the ace of spades twice in a row?\n",
        "\n",
        "# Probability of drawing the ace of spades on the first draw: 1/52\n",
        "# Probability of drawing the ace of spades on the second draw: 1/52\n",
        "# Since the draws are independent (the card is replaced), we multiply the probabilities\n",
        "probability = (1/52) * (1/52)\n",
        "probability"
      ]
    },
    {
      "cell_type": "markdown",
      "id": "453e96ce",
      "metadata": {
        "id": "453e96ce"
      },
      "source": [
        "### 2. You draw a card from a deck of cards. After replacing the drawn card back into the deck and shuffling thoroughly, what is the probability of drawing the same card again?"
      ]
    },
    {
      "cell_type": "code",
      "execution_count": 2,
      "id": "b70fa8ec",
      "metadata": {
        "id": "b70fa8ec",
        "outputId": "a89e2b37-994b-4c2d-88c5-8bef39e74104",
        "colab": {
          "base_uri": "https://localhost:8080/"
        }
      },
      "outputs": [
        {
          "output_type": "execute_result",
          "data": {
            "text/plain": [
              "0.019230769230769232"
            ]
          },
          "metadata": {},
          "execution_count": 2
        }
      ],
      "source": [
        "# prompt: You draw a card from a deck of cards. After replacing the drawn card back into the deck and shuffling thoroughly, what is the probability of drawing the same card again?\n",
        "\n",
        "# Probability of drawing any specific card on the first draw: 1/52\n",
        "# Since the card is replaced and the deck is shuffled, the probability of drawing the same card again is the same as the probability of drawing any specific card.\n",
        "probability = 1/52\n",
        "probability"
      ]
    },
    {
      "cell_type": "markdown",
      "id": "a418f473",
      "metadata": {
        "id": "a418f473"
      },
      "source": [
        "### 3. Use $n \\choose k$ to calculate the probability of throwing three heads in five coin tosses.\n",
        "The $n \\choose k$ formula $\\frac{n!}{k!(n - k)!}$"
      ]
    },
    {
      "cell_type": "code",
      "execution_count": 3,
      "id": "84a3cbe9",
      "metadata": {
        "id": "84a3cbe9",
        "outputId": "d65de2e6-4559-4cf6-db22-5dcdf0b49472",
        "colab": {
          "base_uri": "https://localhost:8080/"
        }
      },
      "outputs": [
        {
          "output_type": "execute_result",
          "data": {
            "text/plain": [
              "10.0"
            ]
          },
          "metadata": {},
          "execution_count": 3
        }
      ],
      "source": [
        "\n",
        "numerator = (5*4*3*2*1) / ((3*2*1)*(2*1))\n",
        "numerator"
      ]
    },
    {
      "cell_type": "code",
      "source": [
        "denominator = 2**5\n",
        "denominator"
      ],
      "metadata": {
        "id": "6PI382jar3jn",
        "outputId": "0f8bffa6-22ca-4585-9ef8-12a7249e04c3",
        "colab": {
          "base_uri": "https://localhost:8080/"
        }
      },
      "id": "6PI382jar3jn",
      "execution_count": 4,
      "outputs": [
        {
          "output_type": "execute_result",
          "data": {
            "text/plain": [
              "32"
            ]
          },
          "metadata": {},
          "execution_count": 4
        }
      ]
    },
    {
      "cell_type": "code",
      "source": [
        "numerator/denominator"
      ],
      "metadata": {
        "id": "BayKtexdr50t",
        "outputId": "3d8ae25e-10ff-49e8-d69e-5ae443b54147",
        "colab": {
          "base_uri": "https://localhost:8080/"
        }
      },
      "id": "BayKtexdr50t",
      "execution_count": 5,
      "outputs": [
        {
          "output_type": "execute_result",
          "data": {
            "text/plain": [
              "0.3125"
            ]
          },
          "metadata": {},
          "execution_count": 5
        }
      ]
    },
    {
      "cell_type": "code",
      "source": [
        "from math import factorial"
      ],
      "metadata": {
        "id": "xPROtoV2r8LL"
      },
      "id": "xPROtoV2r8LL",
      "execution_count": 6,
      "outputs": []
    },
    {
      "cell_type": "code",
      "source": [
        "def coinflip_prob(n, k):\n",
        "    n_choose_k = factorial(n)/(factorial(k)*factorial(n-k))\n",
        "    return n_choose_k/2**n"
      ],
      "metadata": {
        "id": "KfFSaab0r-Lu"
      },
      "id": "KfFSaab0r-Lu",
      "execution_count": 7,
      "outputs": []
    },
    {
      "cell_type": "code",
      "source": [
        "coinflip_prob(5, 3)"
      ],
      "metadata": {
        "id": "zxlEonPTsADW",
        "outputId": "35acf97f-f076-4546-b848-a75b71e25322",
        "colab": {
          "base_uri": "https://localhost:8080/"
        }
      },
      "id": "zxlEonPTsADW",
      "execution_count": 8,
      "outputs": [
        {
          "output_type": "execute_result",
          "data": {
            "text/plain": [
              "0.3125"
            ]
          },
          "metadata": {},
          "execution_count": 8
        }
      ]
    }
  ],
  "metadata": {
    "kernelspec": {
      "display_name": "Python 3 (ipykernel)",
      "language": "python",
      "name": "python3"
    },
    "language_info": {
      "codemirror_mode": {
        "name": "ipython",
        "version": 3
      },
      "file_extension": ".py",
      "mimetype": "text/x-python",
      "name": "python",
      "nbconvert_exporter": "python",
      "pygments_lexer": "ipython3",
      "version": "3.11.5"
    },
    "colab": {
      "provenance": [],
      "include_colab_link": true
    }
  },
  "nbformat": 4,
  "nbformat_minor": 5
}