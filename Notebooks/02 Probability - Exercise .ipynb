{
 "cells": [
  {
   "cell_type": "markdown",
   "id": "45463cfa",
   "metadata": {},
   "source": [
    "#  Probability - Exercises"
   ]
  },
  {
   "cell_type": "markdown",
   "id": "33cc16d8",
   "metadata": {},
   "source": [
    "### 1. What is the probability of drawing the ace of spades twice in a row? (Assume that any card drawn on the first draw will be put back in the deck before the second draw.)"
   ]
  },
  {
   "cell_type": "code",
   "execution_count": null,
   "id": "87156da1",
   "metadata": {},
   "outputs": [],
   "source": []
  },
  {
   "cell_type": "markdown",
   "id": "453e96ce",
   "metadata": {},
   "source": [
    "### 2. You draw a card from a deck of cards. After replacing the drawn card back into the deck and shuffling thoroughly, what is the probability of drawing the same card again? "
   ]
  },
  {
   "cell_type": "code",
   "execution_count": null,
   "id": "b70fa8ec",
   "metadata": {},
   "outputs": [],
   "source": []
  },
  {
   "cell_type": "markdown",
   "id": "a418f473",
   "metadata": {},
   "source": [
    "### 3. Use $n \\choose k$ to calculate the probability of throwing three heads in five coin tosses.\n",
    "The $n \\choose k$ formula $\\frac{n!}{k!(n - k)!}$"
   ]
  },
  {
   "cell_type": "code",
   "execution_count": null,
   "id": "84a3cbe9",
   "metadata": {},
   "outputs": [],
   "source": []
  }
 ],
 "metadata": {
  "kernelspec": {
   "display_name": "Python 3 (ipykernel)",
   "language": "python",
   "name": "python3"
  },
  "language_info": {
   "codemirror_mode": {
    "name": "ipython",
    "version": 3
   },
   "file_extension": ".py",
   "mimetype": "text/x-python",
   "name": "python",
   "nbconvert_exporter": "python",
   "pygments_lexer": "ipython3",
   "version": "3.11.5"
  }
 },
 "nbformat": 4,
 "nbformat_minor": 5
}
