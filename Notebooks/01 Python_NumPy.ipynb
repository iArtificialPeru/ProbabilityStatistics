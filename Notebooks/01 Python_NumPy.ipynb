{
  "cells": [
    {
      "cell_type": "markdown",
      "metadata": {
        "id": "view-in-github",
        "colab_type": "text"
      },
      "source": [
        "<a href=\"https://colab.research.google.com/github/iArtificialPeru/ProbabilityStatistics/blob/main/Notebooks/01%20Python_NumPy.ipynb\" target=\"_parent\"><img src=\"https://colab.research.google.com/assets/colab-badge.svg\" alt=\"Open In Colab\"/></a>"
      ]
    },
    {
      "cell_type": "markdown",
      "metadata": {
        "id": "l4IVpWwCifAz"
      },
      "source": [
        "# Python"
      ]
    },
    {
      "cell_type": "markdown",
      "metadata": {
        "id": "gZaaq15-ifA0"
      },
      "source": [
        "## Print()"
      ]
    },
    {
      "cell_type": "code",
      "execution_count": 1,
      "metadata": {
        "id": "ML-Nhd3CifA0"
      },
      "outputs": [],
      "source": [
        "apples = 7"
      ]
    },
    {
      "cell_type": "code",
      "execution_count": 2,
      "metadata": {
        "id": "nWMvyv8rifA0",
        "outputId": "002c91eb-af67-4d57-aed7-f9374460d49b",
        "colab": {
          "base_uri": "https://localhost:8080/"
        }
      },
      "outputs": [
        {
          "output_type": "stream",
          "name": "stdout",
          "text": [
            "apples\n"
          ]
        }
      ],
      "source": [
        "print(\"apples\")"
      ]
    },
    {
      "cell_type": "code",
      "execution_count": 3,
      "metadata": {
        "id": "EeX7gkbrifA0",
        "outputId": "b6193d1a-f80b-4609-84c2-5838b4fd4574",
        "colab": {
          "base_uri": "https://localhost:8080/"
        }
      },
      "outputs": [
        {
          "output_type": "stream",
          "name": "stdout",
          "text": [
            "7\n"
          ]
        }
      ],
      "source": [
        "print(apples)"
      ]
    },
    {
      "cell_type": "code",
      "execution_count": 4,
      "metadata": {
        "id": "d8e21oIgifA0",
        "outputId": "c12d98c7-f27f-4311-a75d-5e77d5af4d91",
        "colab": {
          "base_uri": "https://localhost:8080/"
        }
      },
      "outputs": [
        {
          "output_type": "stream",
          "name": "stdout",
          "text": [
            "Ann ate all 7 of the apples.\n"
          ]
        }
      ],
      "source": [
        "# f-string\n",
        "\n",
        "name = \"Ann\"\n",
        "\n",
        "print(f\"{name} ate all {apples} of the apples.\")"
      ]
    },
    {
      "cell_type": "markdown",
      "metadata": {
        "id": "Qu8MF6IHifA1"
      },
      "source": [
        "---"
      ]
    },
    {
      "cell_type": "markdown",
      "metadata": {
        "id": "GvGNClFJifA1"
      },
      "source": [
        "# List Selection"
      ]
    },
    {
      "cell_type": "code",
      "execution_count": 5,
      "metadata": {
        "id": "sG24bBDLifA1"
      },
      "outputs": [],
      "source": [
        "my_list = [5,10,15,20]"
      ]
    },
    {
      "cell_type": "code",
      "execution_count": 6,
      "metadata": {
        "id": "rqFOcUPuifA1",
        "outputId": "abc09e5b-9754-4615-f70b-c49c48478d1d",
        "colab": {
          "base_uri": "https://localhost:8080/"
        }
      },
      "outputs": [
        {
          "output_type": "execute_result",
          "data": {
            "text/plain": [
              "5"
            ]
          },
          "metadata": {},
          "execution_count": 6
        }
      ],
      "source": [
        "my_list[0]"
      ]
    },
    {
      "cell_type": "markdown",
      "metadata": {
        "id": "3mRJPAKVifA1"
      },
      "source": [
        "---"
      ]
    },
    {
      "cell_type": "markdown",
      "metadata": {
        "id": "nGaWdvxfifA1"
      },
      "source": [
        "## Conditional Statements"
      ]
    },
    {
      "cell_type": "code",
      "execution_count": 7,
      "metadata": {
        "id": "8WZi2skVifA1"
      },
      "outputs": [],
      "source": [
        "'''\n",
        "\n",
        "if <condition>:\n",
        "    block of code\n",
        "--> blocks begin and end with indentation, traditionally 4 spaces\n",
        "\n",
        "    if <condition>:\n",
        "        block of code\n",
        "        can be another if statement\n",
        "\n",
        "if <condition>:\n",
        "    block of code\n",
        "\n",
        "''';"
      ]
    },
    {
      "cell_type": "code",
      "execution_count": 8,
      "metadata": {
        "id": "y5J6COqDifA1",
        "outputId": "4278d20b-932c-45de-c3f7-938009e386e4",
        "colab": {
          "base_uri": "https://localhost:8080/"
        }
      },
      "outputs": [
        {
          "output_type": "stream",
          "name": "stdout",
          "text": [
            "True\n"
          ]
        }
      ],
      "source": [
        "if True:\n",
        "    print(\"True\")"
      ]
    },
    {
      "cell_type": "code",
      "execution_count": 9,
      "metadata": {
        "id": "vJfd13alifA1",
        "outputId": "c86a33a2-e4bc-4800-c0f4-d0aa75f4bde2",
        "colab": {
          "base_uri": "https://localhost:8080/"
        }
      },
      "outputs": [
        {
          "output_type": "stream",
          "name": "stdout",
          "text": [
            "You're in!\n"
          ]
        }
      ],
      "source": [
        "user_email = \"my_email@email.com\"\n",
        "password = \"my_password\"\n",
        "\n",
        "if user_email == \"my_email@email.com\":\n",
        "    if password == \"my_password\":\n",
        "        print(\"You're in!\")"
      ]
    },
    {
      "cell_type": "markdown",
      "metadata": {
        "id": "JTbgY2EIifA2"
      },
      "source": [
        "---"
      ]
    },
    {
      "cell_type": "markdown",
      "metadata": {
        "id": "uxy88pqcifA2"
      },
      "source": [
        "## for Loops"
      ]
    },
    {
      "cell_type": "code",
      "execution_count": 10,
      "metadata": {
        "id": "TZI_PeG2ifA2",
        "outputId": "760fd6a0-eb0f-488d-972a-1732e073c176",
        "colab": {
          "base_uri": "https://localhost:8080/"
        }
      },
      "outputs": [
        {
          "output_type": "execute_result",
          "data": {
            "text/plain": [
              "[0, 1, 2, 3, 4, 5, 6, 7, 8, 9]"
            ]
          },
          "metadata": {},
          "execution_count": 10
        }
      ],
      "source": [
        "# By default, range(10) starts at 0 and EXCLUDES the stop value\n",
        "# Use list() to return a list of numbers\n",
        "\n",
        "list(range(10))"
      ]
    },
    {
      "cell_type": "markdown",
      "metadata": {
        "id": "VHswzdZdifA2"
      },
      "source": [
        "#### Loop a specified number of times"
      ]
    },
    {
      "cell_type": "code",
      "execution_count": 11,
      "metadata": {
        "id": "i2QvsUPrifA2",
        "outputId": "bc46ae6c-db3a-439a-f22b-e7cde945b005",
        "colab": {
          "base_uri": "https://localhost:8080/"
        }
      },
      "outputs": [
        {
          "output_type": "stream",
          "name": "stdout",
          "text": [
            "0\n",
            "1\n",
            "2\n",
            "3\n",
            "4\n",
            "5\n",
            "6\n",
            "7\n",
            "8\n",
            "9\n"
          ]
        }
      ],
      "source": [
        "for number in range(10):\n",
        "    print(number)"
      ]
    },
    {
      "cell_type": "markdown",
      "metadata": {
        "id": "1sb3_0-XifA2"
      },
      "source": [
        "##### What the machine sees"
      ]
    },
    {
      "cell_type": "code",
      "execution_count": 12,
      "metadata": {
        "id": "yqeSAkCmifA2",
        "outputId": "4cefe895-9e55-4800-d8d7-fea3207ee00d",
        "colab": {
          "base_uri": "https://localhost:8080/"
        }
      },
      "outputs": [
        {
          "output_type": "stream",
          "name": "stdout",
          "text": [
            "0\n",
            "1\n",
            "2\n",
            "3\n",
            "4\n",
            "5\n",
            "6\n",
            "7\n",
            "8\n",
            "9\n"
          ]
        }
      ],
      "source": [
        "for number in [0, 1, 2, 3, 4, 5, 6, 7, 8, 9]:\n",
        "    print(number)"
      ]
    },
    {
      "cell_type": "code",
      "execution_count": 13,
      "metadata": {
        "id": "A0gG20sGifA2",
        "outputId": "c71fc83a-3e14-4d7c-f386-81aec585dbd7",
        "colab": {
          "base_uri": "https://localhost:8080/"
        }
      },
      "outputs": [
        {
          "output_type": "stream",
          "name": "stdout",
          "text": [
            "Looping...\n",
            "Looping...\n",
            "Looping...\n",
            "Looping...\n",
            "Looping...\n",
            "Looping...\n",
            "Looping...\n",
            "Looping...\n",
            "Looping...\n",
            "Looping...\n"
          ]
        }
      ],
      "source": [
        "# Convention is to use an underscore when not using the declared variable within the loop\n",
        "\n",
        "for _ in range(10):\n",
        "    print(\"Looping...\")"
      ]
    },
    {
      "cell_type": "markdown",
      "metadata": {
        "id": "yzW7ibirifA2"
      },
      "source": [
        "#### Loop for as many items are in a given data structure"
      ]
    },
    {
      "cell_type": "code",
      "execution_count": 14,
      "metadata": {
        "id": "X-FGocAOifA2",
        "outputId": "e8ffe75d-4831-4b20-e6bc-7a3b81105aa3",
        "colab": {
          "base_uri": "https://localhost:8080/"
        }
      },
      "outputs": [
        {
          "output_type": "stream",
          "name": "stdout",
          "text": [
            "1\n",
            "11\n",
            "4\n",
            "44\n"
          ]
        }
      ],
      "source": [
        "my_list = [1, 11, 4, 44]\n",
        "\n",
        "for thing in my_list:\n",
        "    print(thing)"
      ]
    },
    {
      "cell_type": "markdown",
      "metadata": {
        "id": "FTVASoDLifA2"
      },
      "source": [
        "---"
      ]
    },
    {
      "cell_type": "markdown",
      "metadata": {
        "id": "2fbz2OodifA2"
      },
      "source": [
        "## List Comprehension\n",
        "Creata a new list based on an existing list."
      ]
    },
    {
      "cell_type": "code",
      "execution_count": 15,
      "metadata": {
        "id": "ofk9w0wsifA2",
        "outputId": "69aecf07-9676-4a5c-91b8-16522e55b86f",
        "colab": {
          "base_uri": "https://localhost:8080/"
        }
      },
      "outputs": [
        {
          "output_type": "execute_result",
          "data": {
            "text/plain": [
              "[0, 2, 4, 6, 8, 10, 12, 14, 16, 18, 20]"
            ]
          },
          "metadata": {},
          "execution_count": 15
        }
      ],
      "source": [
        "a_list = [0, 1, 2, 3, 4, 5, 6, 7, 8, 9, 10]\n",
        "\n",
        "[num*2 for num in a_list]"
      ]
    },
    {
      "cell_type": "markdown",
      "metadata": {
        "id": "VONXB2H2ifA2"
      },
      "source": [
        "---"
      ]
    },
    {
      "cell_type": "markdown",
      "metadata": {
        "id": "hBJXlYc_ifA2"
      },
      "source": [
        "## Functions"
      ]
    },
    {
      "cell_type": "markdown",
      "metadata": {
        "id": "WCY0n4reifA2"
      },
      "source": [
        "#### No parameters"
      ]
    },
    {
      "cell_type": "code",
      "execution_count": 16,
      "metadata": {
        "id": "AHAh1cdbifA2"
      },
      "outputs": [],
      "source": [
        "def say_hello():\n",
        "    return \"Hello\""
      ]
    },
    {
      "cell_type": "code",
      "execution_count": 17,
      "metadata": {
        "id": "FDLOTreZifA2",
        "outputId": "20ae84e9-e515-417b-cd3c-185fd59664c9",
        "colab": {
          "base_uri": "https://localhost:8080/",
          "height": 35
        }
      },
      "outputs": [
        {
          "output_type": "execute_result",
          "data": {
            "text/plain": [
              "'Hello'"
            ],
            "application/vnd.google.colaboratory.intrinsic+json": {
              "type": "string"
            }
          },
          "metadata": {},
          "execution_count": 17
        }
      ],
      "source": [
        "say_hello()"
      ]
    },
    {
      "cell_type": "markdown",
      "metadata": {
        "id": "GSFdiJp3ifA2"
      },
      "source": [
        "#### One parameter"
      ]
    },
    {
      "cell_type": "code",
      "execution_count": 18,
      "metadata": {
        "id": "01IHp6y8ifA2"
      },
      "outputs": [],
      "source": [
        "def age_check(age):\n",
        "    if age < 18:\n",
        "        return \"Underage!\"\n",
        "\n",
        "    return \"O.K.\""
      ]
    },
    {
      "cell_type": "code",
      "execution_count": 19,
      "metadata": {
        "id": "W2aFUgAgifA3",
        "outputId": "4f11431d-771f-455c-e1a4-3a6da538b9d3",
        "colab": {
          "base_uri": "https://localhost:8080/",
          "height": 35
        }
      },
      "outputs": [
        {
          "output_type": "execute_result",
          "data": {
            "text/plain": [
              "'Underage!'"
            ],
            "application/vnd.google.colaboratory.intrinsic+json": {
              "type": "string"
            }
          },
          "metadata": {},
          "execution_count": 19
        }
      ],
      "source": [
        "age_check(17)"
      ]
    },
    {
      "cell_type": "markdown",
      "metadata": {
        "id": "QVp0_YKWifA3"
      },
      "source": [
        "#### Two parameters"
      ]
    },
    {
      "cell_type": "code",
      "execution_count": 20,
      "metadata": {
        "id": "wi6VrRHUifA3"
      },
      "outputs": [],
      "source": [
        "# Two parameters\n",
        "\n",
        "def age_check_2(name, age):\n",
        "    if age < 21:\n",
        "        return f\"{name}, you're too young to drink!\"\n",
        "\n",
        "    return f\"{name}, you're O.K.\""
      ]
    },
    {
      "cell_type": "code",
      "execution_count": 21,
      "metadata": {
        "id": "40qcFIGbifA3",
        "outputId": "209b0d4b-dadd-4f79-ea1d-caea96e5da9e",
        "colab": {
          "base_uri": "https://localhost:8080/",
          "height": 0
        }
      },
      "outputs": [
        {
          "output_type": "execute_result",
          "data": {
            "text/plain": [
              "\"Dan, you're too young to drink!\""
            ],
            "application/vnd.google.colaboratory.intrinsic+json": {
              "type": "string"
            }
          },
          "metadata": {},
          "execution_count": 21
        }
      ],
      "source": [
        "age_check_2(\"Dan\", 17)"
      ]
    },
    {
      "cell_type": "markdown",
      "metadata": {
        "id": "u_W5CN6FifA-"
      },
      "source": [
        "---"
      ]
    },
    {
      "cell_type": "markdown",
      "metadata": {
        "id": "xsjra2XaifA-"
      },
      "source": [
        "# NumPy"
      ]
    },
    {
      "cell_type": "code",
      "execution_count": 22,
      "metadata": {
        "id": "DZy2jqgMifA-"
      },
      "outputs": [],
      "source": [
        "import numpy as np"
      ]
    },
    {
      "cell_type": "markdown",
      "metadata": {
        "id": "gIhs8QaBifA-"
      },
      "source": [
        "## Random numbers"
      ]
    },
    {
      "cell_type": "markdown",
      "metadata": {
        "id": "_G3FPSC1ifA-"
      },
      "source": [
        "### rand()"
      ]
    },
    {
      "cell_type": "code",
      "execution_count": 23,
      "metadata": {
        "id": "DL2JpRhfifA-",
        "outputId": "58c13108-5b41-4842-a718-24bc976bba3d",
        "colab": {
          "base_uri": "https://localhost:8080/"
        }
      },
      "outputs": [
        {
          "output_type": "execute_result",
          "data": {
            "text/plain": [
              "0.9046761357811319"
            ]
          },
          "metadata": {},
          "execution_count": 23
        }
      ],
      "source": [
        "# Returns a random number between 0 and 1 (exclusive).\n",
        "\n",
        "np.random.rand()"
      ]
    },
    {
      "cell_type": "markdown",
      "metadata": {
        "id": "hvG4eRbKifA-"
      },
      "source": [
        "### randint()"
      ]
    },
    {
      "cell_type": "code",
      "execution_count": 24,
      "metadata": {
        "id": "MXkcZXGgifA-",
        "outputId": "cc4288ce-2b5d-4703-dd08-12ed01b6be09",
        "colab": {
          "base_uri": "https://localhost:8080/"
        }
      },
      "outputs": [
        {
          "output_type": "execute_result",
          "data": {
            "text/plain": [
              "90"
            ]
          },
          "metadata": {},
          "execution_count": 24
        }
      ],
      "source": [
        "# Returns a random integer between start and stop (exclusive).\n",
        "\n",
        "np.random.randint(1, 101)"
      ]
    },
    {
      "cell_type": "markdown",
      "metadata": {
        "id": "Fd3CiwsbifA-"
      },
      "source": [
        "### normal"
      ]
    },
    {
      "cell_type": "code",
      "execution_count": 25,
      "metadata": {
        "id": "We3BY5v9ifA-",
        "outputId": "8958c891-7870-4e46-cc3c-9b5acc25763d",
        "colab": {
          "base_uri": "https://localhost:8080/"
        }
      },
      "outputs": [
        {
          "output_type": "execute_result",
          "data": {
            "text/plain": [
              "21.956466476731087"
            ]
          },
          "metadata": {},
          "execution_count": 25
        }
      ],
      "source": [
        "# Returns a random decimal number from a normal distribution (68-95-99.7), given a mean and standard deviation.\n",
        "# mean = 30; std = 5\n",
        "\n",
        "np.random.normal(30, 5)"
      ]
    },
    {
      "cell_type": "code",
      "execution_count": 26,
      "metadata": {
        "id": "rRYsl5MKifA_",
        "outputId": "c9f306b1-4255-4c23-bfb4-39a46a8072b1",
        "colab": {
          "base_uri": "https://localhost:8080/"
        }
      },
      "outputs": [
        {
          "output_type": "execute_result",
          "data": {
            "text/plain": [
              "array([[28.88395775, 28.69917836, 31.16883012, 29.44791083, 23.98930507],\n",
              "       [30.57592224, 24.57340291, 37.03220673, 32.32993636, 23.38504476],\n",
              "       [33.14648525, 32.54410262, 25.34127716, 33.09382762, 19.81496789],\n",
              "       [33.50272606, 27.75744261, 26.79149308, 40.93177402, 26.751165  ],\n",
              "       [29.92858934, 28.1146832 , 26.64883896, 29.70650776, 34.9403295 ]])"
            ]
          },
          "metadata": {},
          "execution_count": 26
        }
      ],
      "source": [
        "# Given mean = 30 and std = 5:\n",
        "    # values should fall within 25 to 35 most (approx. 68%) of the time.\n",
        "\n",
        "np.random.normal(30, 5, (5,5))"
      ]
    },
    {
      "cell_type": "markdown",
      "metadata": {
        "id": "6dTqbhAhifA_"
      },
      "source": [
        "### uniform()"
      ]
    },
    {
      "cell_type": "code",
      "execution_count": 27,
      "metadata": {
        "id": "8cXK4luVifA_",
        "outputId": "f9b4e5c4-91f4-420f-85f5-3e46a0043205",
        "colab": {
          "base_uri": "https://localhost:8080/"
        }
      },
      "outputs": [
        {
          "output_type": "execute_result",
          "data": {
            "text/plain": [
              "array([[25.10578412, 27.11159012, 33.14113281, 31.55738314, 31.02260039],\n",
              "       [27.05995786, 25.00925385, 25.28594208, 29.92523222, 31.42744263],\n",
              "       [34.15142119, 30.39472217, 25.35040069, 33.30520074, 27.41604491],\n",
              "       [28.88996364, 32.55720688, 29.70886527, 29.65432746, 28.15722046],\n",
              "       [31.61368277, 27.36089176, 28.8248631 , 27.76685085, 25.5719273 ]])"
            ]
          },
          "metadata": {},
          "execution_count": 27
        }
      ],
      "source": [
        "# Returns a random decimal number uniformly between start and stop (exclusive).\n",
        "\n",
        "np.random.uniform(25, 35, (5,5))"
      ]
    },
    {
      "cell_type": "markdown",
      "metadata": {
        "id": "hDpkqSsCifA_"
      },
      "source": [
        "---"
      ]
    }
  ],
  "metadata": {
    "kernelspec": {
      "display_name": "Python 3 (ipykernel)",
      "language": "python",
      "name": "python3"
    },
    "language_info": {
      "codemirror_mode": {
        "name": "ipython",
        "version": 3
      },
      "file_extension": ".py",
      "mimetype": "text/x-python",
      "name": "python",
      "nbconvert_exporter": "python",
      "pygments_lexer": "ipython3",
      "version": "3.11.5"
    },
    "colab": {
      "provenance": [],
      "include_colab_link": true
    }
  },
  "nbformat": 4,
  "nbformat_minor": 0
}