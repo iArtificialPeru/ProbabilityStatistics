{
 "cells": [
  {
   "cell_type": "markdown",
   "id": "c958b15c",
   "metadata": {},
   "source": [
    "# Z-scores (finding probabilities for X) - Exercise Solution"
   ]
  },
  {
   "cell_type": "markdown",
   "id": "6db0dc80",
   "metadata": {},
   "source": [
    "### Suppose that you enter a fishing contest. The contest takes place in a pond where the fish lengths have a normal distribution with a mean of 16 inches and a standard deviation of 4 inches.\n"
   ]
  },
  {
   "cell_type": "markdown",
   "id": "393f720f",
   "metadata": {},
   "source": [
    "## 1.) What’s the chance of catching a fish at least 24 inches in size?"
   ]
  },
  {
   "cell_type": "markdown",
   "id": "cda27395",
   "metadata": {},
   "source": [
    "### Z = (24 - 16)/4 = 2\n",
    "### P(Z<2) = .9772\n",
    "### P(Z>2) = 1 -.9772 = .0228"
   ]
  },
  {
   "cell_type": "markdown",
   "id": "4cab5cd3",
   "metadata": {},
   "source": [
    "![](images/z_greater_than.png)"
   ]
  },
  {
   "cell_type": "markdown",
   "id": "34c79142",
   "metadata": {},
   "source": [
    "---"
   ]
  },
  {
   "cell_type": "markdown",
   "id": "17b10e84",
   "metadata": {},
   "source": [
    "## 2.) What’s the chance of catching a fish less than 12 inches?"
   ]
  },
  {
   "cell_type": "markdown",
   "id": "4a823654",
   "metadata": {},
   "source": [
    "### Z = (12 - 16)/4 = -1\n",
    "### P(Z<-1) = .1587"
   ]
  },
  {
   "cell_type": "markdown",
   "id": "f3a877cf",
   "metadata": {},
   "source": [
    "![](images/z_less_than.png)"
   ]
  },
  {
   "cell_type": "markdown",
   "id": "49850017",
   "metadata": {},
   "source": [
    "---"
   ]
  },
  {
   "cell_type": "markdown",
   "id": "c060a974",
   "metadata": {},
   "source": [
    "## 3.) What’s the chance of catching a fish between 12 and 24 inches?"
   ]
  },
  {
   "cell_type": "markdown",
   "id": "21dc0f9b",
   "metadata": {},
   "source": [
    "### P(-1 > Z <2)  = .9772 - .1587 = .8185"
   ]
  },
  {
   "cell_type": "markdown",
   "id": "52fc5eaf",
   "metadata": {},
   "source": [
    "![](images/z_between.png)"
   ]
  },
  {
   "cell_type": "markdown",
   "id": "964c3a9f",
   "metadata": {},
   "source": [
    "---"
   ]
  },
  {
   "cell_type": "markdown",
   "id": "1325cf4b",
   "metadata": {},
   "source": [
    "# Finding  probabilities for X"
   ]
  },
  {
   "cell_type": "markdown",
   "id": "435c23b6",
   "metadata": {},
   "source": [
    "1.   Draw a picture of the distribution.\n",
    "\n",
    "2.   Translate the problem into one of the following: P(X<a), P(X>b), or P(a<X<b). Shade in the area on your picture.\n",
    "\n",
    "3.   Transform *a* (and/or *b*) into a z-value, using the Z-formula: Z = X - mean/stdev.\n",
    "\n",
    "4.   Look up the transformed z-value on the Z-table (see the Z-table below) and find its probability.\n",
    "\n",
    "5.a.   If you have a less-than problem, you’re done.\n",
    "5.b.   If you have a greater-than problem, take one minus the result from Step 4.\n",
    "5.c.   If you have a between-values problem, do Steps 1–4 for *b* (the larger of the two values) and then for *a* (the smaller of the two values), and subtract the results."
   ]
  },
  {
   "cell_type": "markdown",
   "id": "fdf15d15",
   "metadata": {},
   "source": [
    "---"
   ]
  },
  {
   "cell_type": "markdown",
   "id": "04947714",
   "metadata": {},
   "source": [
    "### Use the Z-table to find probabilities for Z (which are equivalent to the corresponding probabilities for X). "
   ]
  },
  {
   "cell_type": "markdown",
   "id": "733fca88",
   "metadata": {},
   "source": [
    "#### To use the Z-table to find probabilities, do the following:\n",
    "\n",
    "1. Go to the row that represents the leading digit of your z-value and the first digit after the decimal point.\n",
    "2. Go to the column that represents the second digit after the decimal point of your z-value.\n",
    "3. Intersect the row and column."
   ]
  },
  {
   "cell_type": "markdown",
   "id": "baed09cf",
   "metadata": {},
   "source": [
    "### Positive z-scores"
   ]
  },
  {
   "cell_type": "markdown",
   "id": "6a631abc",
   "metadata": {},
   "source": [
    "![](images/pos_z-table.png)"
   ]
  },
  {
   "cell_type": "markdown",
   "id": "2a177246",
   "metadata": {},
   "source": [
    "### Negative z-scores"
   ]
  },
  {
   "cell_type": "markdown",
   "id": "4f534db6",
   "metadata": {},
   "source": [
    "![](images/neg_z-table.png)"
   ]
  }
 ],
 "metadata": {
  "kernelspec": {
   "display_name": "Python 3 (ipykernel)",
   "language": "python",
   "name": "python3"
  },
  "language_info": {
   "codemirror_mode": {
    "name": "ipython",
    "version": 3
   },
   "file_extension": ".py",
   "mimetype": "text/x-python",
   "name": "python",
   "nbconvert_exporter": "python",
   "pygments_lexer": "ipython3",
   "version": "3.11.5"
  }
 },
 "nbformat": 4,
 "nbformat_minor": 5
}
